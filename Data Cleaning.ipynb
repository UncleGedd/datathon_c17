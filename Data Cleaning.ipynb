{
 "cells": [
  {
   "cell_type": "code",
   "execution_count": 1,
   "metadata": {},
   "outputs": [],
   "source": [
    "#Import Utilities for Datathon\n",
    "from DataLoader import *\n",
    "from ScheduleVisualizer import *\n",
    "from CheckSchedule import checkSchedule\n",
    "from satUtils import *\n",
    "\n",
    "# Import Helpful packages\n",
    "import pandas as pd\n",
    "import pprint\n",
    "import json\n",
    "\n",
    "# Helpful to print out dictionaries\n",
    "pp = pprint.PrettyPrinter(indent=4)\n",
    "\n",
    "import copy"
   ]
  },
  {
   "cell_type": "markdown",
   "metadata": {},
   "source": [
    "### Clean up pilots leave"
   ]
  },
  {
   "cell_type": "code",
   "execution_count": 2,
   "metadata": {},
   "outputs": [
    {
     "name": "stdout",
     "output_type": "stream",
     "text": [
      "106 total\n"
     ]
    },
    {
     "data": {
      "text/plain": [
       "{'Leave': [[128.0, 135.0], [143.0, 143.0], [146.0, 146.0], [147.0, 208.0]],\n",
       " 'Quals': {'Aug': 'EP A',\n",
       "  'Sep': 'EP A',\n",
       "  'Oct': None,\n",
       "  'Nov': None,\n",
       "  'Dec': None}}"
      ]
     },
     "execution_count": 2,
     "metadata": {},
     "output_type": "execute_result"
    }
   ],
   "source": [
    "# load and view data\n",
    "pilots = loadPilotData()\n",
    "print(len(pilots.keys()), 'total')\n",
    "pilots[10000]"
   ]
  },
  {
   "cell_type": "markdown",
   "metadata": {},
   "source": [
    "#### Show invalid leave dates"
   ]
  },
  {
   "cell_type": "code",
   "execution_count": 3,
   "metadata": {},
   "outputs": [
    {
     "name": "stdout",
     "output_type": "stream",
     "text": [
      "3 pilots with invalid leave\n",
      "Pilot 10029 , Leave [[202.0, 204.0], [218.0, -93.0], [181.0, 195.0]]\n",
      "Pilot 10039 , Leave [[78.0, 86.0], [132.0, 141.0], [215.0, -108.0]]\n",
      "Pilot 10084 , Leave [[192.0, 201.0], [145.0, 149.0], [218.0, -93.0], [202.0, 204.0]]\n"
     ]
    }
   ],
   "source": [
    "# returns list of pilots who have invalid leave dates (i.e. negative return dates)\n",
    "def get_invalid_leave(pilots):\n",
    "    invalid_leave = {}\n",
    "    for p in pilots.keys():\n",
    "        for l in pilots[p]['Leave']:\n",
    "            for day in l:\n",
    "                if day < 0:\n",
    "                    invalid_leave[p] = pilots[p]\n",
    "    return invalid_leave\n",
    "        \n",
    "invalid_leave = get_invalid_leave(pilots)\n",
    "print(len(invalid_leave), 'pilots with invalid leave')\n",
    "for p in invalid_leave.keys():\n",
    "    print('Pilot', p, ', Leave', invalid_leave[p]['Leave'])"
   ]
  },
  {
   "cell_type": "markdown",
   "metadata": {},
   "source": [
    "#### Clean pilot data to fix invalid leave"
   ]
  },
  {
   "cell_type": "code",
   "execution_count": 4,
   "metadata": {},
   "outputs": [],
   "source": [
    "# clean up by setting negative values to be 1 day of leave\n",
    "# note: assumes problem is only with end dates, not start dates\n",
    "def clean_invalid_leave(pilots):\n",
    "    invalid_leave = get_invalid_leave(pilots)\n",
    "    for p in invalid_leave: \n",
    "        for i, l in enumerate(pilots[p]['Leave']):\n",
    "            for j, day in enumerate(l):\n",
    "                if day < 0:\n",
    "                    if j == 1:  \n",
    "                        pilots[p]['Leave'][i][j] = l[j-1]\n",
    "    return pilots\n",
    "\n",
    "pilots = clean_invalid_leave(pilots)"
   ]
  },
  {
   "cell_type": "code",
   "execution_count": 5,
   "metadata": {},
   "outputs": [
    {
     "data": {
      "text/plain": [
       "{}"
      ]
     },
     "execution_count": 5,
     "metadata": {},
     "output_type": "execute_result"
    }
   ],
   "source": [
    "get_invalid_leave(pilots)"
   ]
  },
  {
   "cell_type": "markdown",
   "metadata": {},
   "source": [
    "### Clean up aircrew quals\n",
    "Cleaning up according to Chris Chin's suggestion on Slack  \n",
    "Ask Travis: is this only in the pilot data, not in events?"
   ]
  },
  {
   "cell_type": "code",
   "execution_count": 6,
   "metadata": {},
   "outputs": [
    {
     "data": {
      "text/plain": [
       "{'Category': 'Local',\n",
       " 'Type': 'Mission',\n",
       " 'CrewType': 'Augmented',\n",
       " 'CrewRequirements': ['MP+', 'FPQ+', 'FPC+'],\n",
       " 'CrewMin': 3,\n",
       " 'CrewMax': 3,\n",
       " 'StartDay': 60.0,\n",
       " 'EndDay': 65.0}"
      ]
     },
     "execution_count": 6,
     "metadata": {},
     "output_type": "execute_result"
    }
   ],
   "source": [
    "events = loadEventData()\n",
    "events['f1']"
   ]
  },
  {
   "cell_type": "code",
   "execution_count": 7,
   "metadata": {},
   "outputs": [
    {
     "data": {
      "text/plain": [
       "{'',\n",
       " 'EP+',\n",
       " 'FPC+',\n",
       " 'FPCCR+',\n",
       " 'FPL+',\n",
       " 'FPNC',\n",
       " 'FPQ+',\n",
       " 'IP AL+',\n",
       " 'IP+',\n",
       " 'MP C3+',\n",
       " 'MP CJ+',\n",
       " 'MP+'}"
      ]
     },
     "execution_count": 7,
     "metadata": {},
     "output_type": "execute_result"
    }
   ],
   "source": [
    "all_quals = []\n",
    "for e in events.keys():\n",
    "    all_quals += events[e]['CrewRequirements']\n",
    "all_quals = set(all_quals)\n",
    "all_quals\n",
    "\n",
    "# are these really the only quals in the events?"
   ]
  },
  {
   "cell_type": "code",
   "execution_count": 8,
   "metadata": {},
   "outputs": [
    {
     "data": {
      "text/plain": [
       "{'Leave': [[128.0, 135.0], [143.0, 143.0], [146.0, 146.0], [147.0, 208.0]],\n",
       " 'Quals': {'Aug': 'EP A',\n",
       "  'Sep': 'EP A',\n",
       "  'Oct': None,\n",
       "  'Nov': None,\n",
       "  'Dec': None}}"
      ]
     },
     "execution_count": 8,
     "metadata": {},
     "output_type": "execute_result"
    }
   ],
   "source": [
    "pilots[10000]"
   ]
  },
  {
   "cell_type": "code",
   "execution_count": 9,
   "metadata": {},
   "outputs": [
    {
     "name": "stdout",
     "output_type": "stream",
     "text": [
      "6 pilots with invalid quals\n",
      "Pilot 10005 , Quals {'Aug': 'IP A2', 'Sep': 'IPA2', 'Oct': 'IP A2', 'Nov': 'IPA2', 'Dec': 'IP A2'}\n",
      "Pilot 10040 , Quals {'Aug': 'IPBZ', 'Sep': 'IP BZ', 'Oct': 'IP BJ', 'Nov': 'IP BJ', 'Dec': 'IP BJ'}\n",
      "Pilot 10086 , Quals {'Aug': 'MPCR', 'Sep': 'MPCR', 'Oct': 'MP CR', 'Nov': 'MP CR', 'Dec': 'MP CZ'}\n",
      "Pilot 10082 , Quals {'Aug': None, 'Sep': None, 'Oct': 'UP A', 'Nov': 'UP A', 'Dec': 'UP A'}\n",
      "Pilot 10094 , Quals {'Aug': None, 'Sep': None, 'Oct': None, 'Nov': 'FPKA', 'Dec': 'FPKN'}\n",
      "Pilot 10047 , Quals {'Aug': None, 'Sep': None, 'Oct': None, 'Nov': 'FPKN', 'Dec': 'FPKC'}\n"
     ]
    }
   ],
   "source": [
    "quals_map = {'IPA2': 'IP A2',\n",
    "             'FPKN': 'FPKA',\n",
    "             'UP A': 'IP A',\n",
    "             'MPCR': 'MP CR',\n",
    "             'IPBZ': 'IP BZ'}\n",
    "\n",
    "def get_invalid_pilot_quals(pilots, quals_map=quals_map):\n",
    "    invalid_quals = {}\n",
    "    for p in pilots.keys():\n",
    "        for month in pilots[p]['Quals'].keys():\n",
    "            if pilots[p]['Quals'][month]:\n",
    "                qual = pilots[p]['Quals'][month]\n",
    "                if qual in quals_map.keys():\n",
    "                    invalid_quals[p] = pilots[p]  \n",
    "    return invalid_quals\n",
    "\n",
    "invalid_quals = get_invalid_pilot_quals(pilots)\n",
    "print(len(invalid_quals), 'pilots with invalid quals')\n",
    "for p in invalid_quals.keys():\n",
    "    print('Pilot', p, ', Quals', invalid_quals[p]['Quals'])"
   ]
  },
  {
   "cell_type": "code",
   "execution_count": 10,
   "metadata": {},
   "outputs": [],
   "source": [
    "def clean_pilot_quals(pilots, quals_map=quals_map):\n",
    "    for p in pilots.keys():\n",
    "        for month in pilots[p]['Quals'].keys():\n",
    "            if pilots[p]['Quals'][month]:\n",
    "                qual = pilots[p]['Quals'][month]\n",
    "                if qual in quals_map.keys():\n",
    "                    pilots[p]['Quals'][month] = quals_map[qual]\n",
    "    return pilots\n",
    "\n",
    "pilots = clean_pilot_quals(pilots)"
   ]
  },
  {
   "cell_type": "code",
   "execution_count": 11,
   "metadata": {},
   "outputs": [
    {
     "data": {
      "text/plain": [
       "{}"
      ]
     },
     "execution_count": 11,
     "metadata": {},
     "output_type": "execute_result"
    }
   ],
   "source": [
    "get_invalid_pilot_quals(pilots)"
   ]
  }
 ],
 "metadata": {
  "kernelspec": {
   "display_name": "Python 3",
   "language": "python",
   "name": "python3"
  },
  "language_info": {
   "codemirror_mode": {
    "name": "ipython",
    "version": 3
   },
   "file_extension": ".py",
   "mimetype": "text/x-python",
   "name": "python",
   "nbconvert_exporter": "python",
   "pygments_lexer": "ipython3",
   "version": "3.8.3"
  }
 },
 "nbformat": 4,
 "nbformat_minor": 4
}
